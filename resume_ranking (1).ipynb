{
 "cells": [
  {
   "cell_type": "code",
   "execution_count": 5,
   "id": "2ff8fe01",
   "metadata": {},
   "outputs": [
    {
     "name": "stdout",
     "output_type": "stream",
     "text": [
      "Defaulting to user installation because normal site-packages is not writeable\n",
      "Collecting streamlit\n",
      "  Using cached streamlit-1.44.0-py3-none-any.whl.metadata (8.9 kB)\n",
      "Collecting altair<6,>=4.0 (from streamlit)\n",
      "  Using cached altair-5.5.0-py3-none-any.whl.metadata (11 kB)\n",
      "Requirement already satisfied: blinker<2,>=1.0.0 in c:\\users\\91807\\appdata\\local\\packages\\pythonsoftwarefoundation.python.3.10_qbz5n2kfra8p0\\localcache\\local-packages\\python312\\site-packages (from streamlit) (1.9.0)\n",
      "Requirement already satisfied: cachetools<6,>=4.0 in c:\\users\\91807\\appdata\\local\\packages\\pythonsoftwarefoundation.python.3.10_qbz5n2kfra8p0\\localcache\\local-packages\\python312\\site-packages (from streamlit) (5.5.2)\n",
      "Requirement already satisfied: click<9,>=7.0 in c:\\users\\91807\\appdata\\local\\packages\\pythonsoftwarefoundation.python.3.10_qbz5n2kfra8p0\\localcache\\local-packages\\python312\\site-packages (from streamlit) (8.1.8)\n",
      "Requirement already satisfied: numpy<3,>=1.23 in c:\\users\\91807\\appdata\\local\\packages\\pythonsoftwarefoundation.python.3.10_qbz5n2kfra8p0\\localcache\\local-packages\\python312\\site-packages (from streamlit) (2.2.4)\n",
      "Requirement already satisfied: packaging<25,>=20 in c:\\users\\91807\\appdata\\local\\packages\\pythonsoftwarefoundation.python.3.10_qbz5n2kfra8p0\\localcache\\local-packages\\python312\\site-packages (from streamlit) (24.2)\n",
      "Requirement already satisfied: pandas<3,>=1.4.0 in c:\\users\\91807\\appdata\\local\\packages\\pythonsoftwarefoundation.python.3.10_qbz5n2kfra8p0\\localcache\\local-packages\\python312\\site-packages (from streamlit) (2.2.3)\n",
      "Requirement already satisfied: pillow<12,>=7.1.0 in c:\\users\\91807\\appdata\\local\\packages\\pythonsoftwarefoundation.python.3.10_qbz5n2kfra8p0\\localcache\\local-packages\\python312\\site-packages (from streamlit) (11.1.0)\n",
      "Requirement already satisfied: protobuf<6,>=3.20 in c:\\users\\91807\\appdata\\local\\packages\\pythonsoftwarefoundation.python.3.10_qbz5n2kfra8p0\\localcache\\local-packages\\python312\\site-packages (from streamlit) (5.29.4)\n",
      "Requirement already satisfied: pyarrow>=7.0 in c:\\users\\91807\\appdata\\local\\packages\\pythonsoftwarefoundation.python.3.10_qbz5n2kfra8p0\\localcache\\local-packages\\python312\\site-packages (from streamlit) (19.0.1)\n",
      "Requirement already satisfied: requests<3,>=2.27 in c:\\users\\91807\\appdata\\local\\packages\\pythonsoftwarefoundation.python.3.10_qbz5n2kfra8p0\\localcache\\local-packages\\python312\\site-packages (from streamlit) (2.32.3)\n",
      "Requirement already satisfied: tenacity<10,>=8.1.0 in c:\\users\\91807\\appdata\\local\\packages\\pythonsoftwarefoundation.python.3.10_qbz5n2kfra8p0\\localcache\\local-packages\\python312\\site-packages (from streamlit) (9.0.0)\n",
      "Requirement already satisfied: toml<2,>=0.10.1 in c:\\users\\91807\\appdata\\local\\packages\\pythonsoftwarefoundation.python.3.10_qbz5n2kfra8p0\\localcache\\local-packages\\python312\\site-packages (from streamlit) (0.10.2)\n",
      "Requirement already satisfied: typing-extensions<5,>=4.4.0 in c:\\users\\91807\\appdata\\local\\packages\\pythonsoftwarefoundation.python.3.10_qbz5n2kfra8p0\\localcache\\local-packages\\python312\\site-packages (from streamlit) (4.13.0)\n",
      "Requirement already satisfied: watchdog<7,>=2.1.5 in c:\\users\\91807\\appdata\\local\\packages\\pythonsoftwarefoundation.python.3.10_qbz5n2kfra8p0\\localcache\\local-packages\\python312\\site-packages (from streamlit) (6.0.0)\n",
      "Collecting gitpython!=3.1.19,<4,>=3.0.7 (from streamlit)\n",
      "  Using cached GitPython-3.1.44-py3-none-any.whl.metadata (13 kB)\n",
      "Requirement already satisfied: pydeck<1,>=0.8.0b4 in c:\\users\\91807\\appdata\\local\\packages\\pythonsoftwarefoundation.python.3.10_qbz5n2kfra8p0\\localcache\\local-packages\\python312\\site-packages (from streamlit) (0.9.1)\n",
      "Requirement already satisfied: tornado<7,>=6.0.3 in c:\\users\\91807\\appdata\\local\\packages\\pythonsoftwarefoundation.python.3.10_qbz5n2kfra8p0\\localcache\\local-packages\\python312\\site-packages (from streamlit) (6.4.2)\n",
      "Requirement already satisfied: jinja2 in c:\\users\\91807\\appdata\\local\\packages\\pythonsoftwarefoundation.python.3.10_qbz5n2kfra8p0\\localcache\\local-packages\\python312\\site-packages (from altair<6,>=4.0->streamlit) (3.1.6)\n",
      "Collecting jsonschema>=3.0 (from altair<6,>=4.0->streamlit)\n",
      "  Using cached jsonschema-4.23.0-py3-none-any.whl.metadata (7.9 kB)\n",
      "Requirement already satisfied: narwhals>=1.14.2 in c:\\users\\91807\\appdata\\local\\packages\\pythonsoftwarefoundation.python.3.10_qbz5n2kfra8p0\\localcache\\local-packages\\python312\\site-packages (from altair<6,>=4.0->streamlit) (1.32.0)\n",
      "Requirement already satisfied: colorama in c:\\users\\91807\\appdata\\local\\packages\\pythonsoftwarefoundation.python.3.10_qbz5n2kfra8p0\\localcache\\local-packages\\python312\\site-packages (from click<9,>=7.0->streamlit) (0.4.6)\n",
      "Requirement already satisfied: gitdb<5,>=4.0.1 in c:\\users\\91807\\appdata\\local\\packages\\pythonsoftwarefoundation.python.3.10_qbz5n2kfra8p0\\localcache\\local-packages\\python312\\site-packages (from gitpython!=3.1.19,<4,>=3.0.7->streamlit) (4.0.12)\n",
      "Requirement already satisfied: python-dateutil>=2.8.2 in c:\\users\\91807\\appdata\\local\\packages\\pythonsoftwarefoundation.python.3.10_qbz5n2kfra8p0\\localcache\\local-packages\\python312\\site-packages (from pandas<3,>=1.4.0->streamlit) (2.9.0.post0)\n",
      "Requirement already satisfied: pytz>=2020.1 in c:\\users\\91807\\appdata\\local\\packages\\pythonsoftwarefoundation.python.3.10_qbz5n2kfra8p0\\localcache\\local-packages\\python312\\site-packages (from pandas<3,>=1.4.0->streamlit) (2025.2)\n",
      "Requirement already satisfied: tzdata>=2022.7 in c:\\users\\91807\\appdata\\local\\packages\\pythonsoftwarefoundation.python.3.10_qbz5n2kfra8p0\\localcache\\local-packages\\python312\\site-packages (from pandas<3,>=1.4.0->streamlit) (2025.2)\n",
      "Requirement already satisfied: charset-normalizer<4,>=2 in c:\\users\\91807\\appdata\\local\\packages\\pythonsoftwarefoundation.python.3.10_qbz5n2kfra8p0\\localcache\\local-packages\\python312\\site-packages (from requests<3,>=2.27->streamlit) (3.4.1)\n",
      "Requirement already satisfied: idna<4,>=2.5 in c:\\users\\91807\\appdata\\local\\packages\\pythonsoftwarefoundation.python.3.10_qbz5n2kfra8p0\\localcache\\local-packages\\python312\\site-packages (from requests<3,>=2.27->streamlit) (3.10)\n",
      "Requirement already satisfied: urllib3<3,>=1.21.1 in c:\\users\\91807\\appdata\\local\\packages\\pythonsoftwarefoundation.python.3.10_qbz5n2kfra8p0\\localcache\\local-packages\\python312\\site-packages (from requests<3,>=2.27->streamlit) (2.3.0)\n",
      "Requirement already satisfied: certifi>=2017.4.17 in c:\\users\\91807\\appdata\\local\\packages\\pythonsoftwarefoundation.python.3.10_qbz5n2kfra8p0\\localcache\\local-packages\\python312\\site-packages (from requests<3,>=2.27->streamlit) (2025.1.31)\n",
      "Requirement already satisfied: smmap<6,>=3.0.1 in c:\\users\\91807\\appdata\\local\\packages\\pythonsoftwarefoundation.python.3.10_qbz5n2kfra8p0\\localcache\\local-packages\\python312\\site-packages (from gitdb<5,>=4.0.1->gitpython!=3.1.19,<4,>=3.0.7->streamlit) (5.0.2)\n",
      "Requirement already satisfied: MarkupSafe>=2.0 in c:\\users\\91807\\appdata\\local\\packages\\pythonsoftwarefoundation.python.3.10_qbz5n2kfra8p0\\localcache\\local-packages\\python312\\site-packages (from jinja2->altair<6,>=4.0->streamlit) (3.0.2)\n",
      "Requirement already satisfied: attrs>=22.2.0 in c:\\users\\91807\\appdata\\local\\packages\\pythonsoftwarefoundation.python.3.10_qbz5n2kfra8p0\\localcache\\local-packages\\python312\\site-packages (from jsonschema>=3.0->altair<6,>=4.0->streamlit) (25.3.0)\n",
      "Collecting jsonschema-specifications>=2023.03.6 (from jsonschema>=3.0->altair<6,>=4.0->streamlit)\n",
      "  Using cached jsonschema_specifications-2024.10.1-py3-none-any.whl.metadata (3.0 kB)\n",
      "Requirement already satisfied: referencing>=0.28.4 in c:\\users\\91807\\appdata\\local\\packages\\pythonsoftwarefoundation.python.3.10_qbz5n2kfra8p0\\localcache\\local-packages\\python312\\site-packages (from jsonschema>=3.0->altair<6,>=4.0->streamlit) (0.36.2)\n",
      "Requirement already satisfied: rpds-py>=0.7.1 in c:\\users\\91807\\appdata\\local\\packages\\pythonsoftwarefoundation.python.3.10_qbz5n2kfra8p0\\localcache\\local-packages\\python312\\site-packages (from jsonschema>=3.0->altair<6,>=4.0->streamlit) (0.24.0)\n",
      "Requirement already satisfied: six>=1.5 in c:\\users\\91807\\appdata\\local\\packages\\pythonsoftwarefoundation.python.3.10_qbz5n2kfra8p0\\localcache\\local-packages\\python312\\site-packages (from python-dateutil>=2.8.2->pandas<3,>=1.4.0->streamlit) (1.17.0)\n",
      "Using cached streamlit-1.44.0-py3-none-any.whl (9.8 MB)\n",
      "Using cached altair-5.5.0-py3-none-any.whl (731 kB)\n",
      "Using cached GitPython-3.1.44-py3-none-any.whl (207 kB)\n",
      "Using cached jsonschema-4.23.0-py3-none-any.whl (88 kB)\n",
      "Using cached jsonschema_specifications-2024.10.1-py3-none-any.whl (18 kB)\n",
      "Installing collected packages: jsonschema-specifications, gitpython, jsonschema, altair, streamlit\n",
      "Successfully installed altair-5.5.0 gitpython-3.1.44 jsonschema-4.23.0 jsonschema-specifications-2024.10.1 streamlit-1.44.0\n"
     ]
    },
    {
     "name": "stderr",
     "output_type": "stream",
     "text": [
      "  WARNING: The script jsonschema.exe is installed in 'C:\\Users\\91807\\AppData\\Local\\Packages\\PythonSoftwareFoundation.Python.3.10_qbz5n2kfra8p0\\LocalCache\\local-packages\\Python312\\Scripts' which is not on PATH.\n",
      "  Consider adding this directory to PATH or, if you prefer to suppress this warning, use --no-warn-script-location.\n",
      "  WARNING: The script streamlit.exe is installed in 'C:\\Users\\91807\\AppData\\Local\\Packages\\PythonSoftwareFoundation.Python.3.10_qbz5n2kfra8p0\\LocalCache\\local-packages\\Python312\\Scripts' which is not on PATH.\n",
      "  Consider adding this directory to PATH or, if you prefer to suppress this warning, use --no-warn-script-location.\n",
      "\n",
      "[notice] A new release of pip is available: 24.3.1 -> 25.0.1\n",
      "[notice] To update, run: C:\\Users\\91807\\AppData\\Local\\Microsoft\\WindowsApps\\PythonSoftwareFoundation.Python.3.12_qbz5n2kfra8p0\\python.exe -m pip install --upgrade pip\n"
     ]
    }
   ],
   "source": [
    "!pip install streamlit"
   ]
  },
  {
   "cell_type": "code",
   "execution_count": 11,
   "id": "2126358a",
   "metadata": {},
   "outputs": [
    {
     "name": "stderr",
     "output_type": "stream",
     "text": [
      "'php' is not recognized as an internal or external command,\n",
      "operable program or batch file.\n"
     ]
    }
   ],
   "source": [
    "!php install sklearn"
   ]
  },
  {
   "cell_type": "code",
   "execution_count": 4,
   "id": "e43bcb9f",
   "metadata": {},
   "outputs": [
    {
     "name": "stdout",
     "output_type": "stream",
     "text": [
      "Defaulting to user installation because normal site-packages is not writeable\n",
      "Collecting PyPDF2\n",
      "  Downloading pypdf2-3.0.1-py3-none-any.whl.metadata (6.8 kB)\n",
      "Downloading pypdf2-3.0.1-py3-none-any.whl (232 kB)\n",
      "Installing collected packages: PyPDF2\n",
      "Successfully installed PyPDF2-3.0.1\n"
     ]
    },
    {
     "name": "stderr",
     "output_type": "stream",
     "text": [
      "\n",
      "[notice] A new release of pip is available: 24.3.1 -> 25.0.1\n",
      "[notice] To update, run: C:\\Users\\91807\\AppData\\Local\\Microsoft\\WindowsApps\\PythonSoftwareFoundation.Python.3.12_qbz5n2kfra8p0\\python.exe -m pip install --upgrade pip\n"
     ]
    }
   ],
   "source": [
    "!pip install PyPDF2"
   ]
  },
  {
   "cell_type": "code",
   "execution_count": 6,
   "id": "e03eecf0",
   "metadata": {},
   "outputs": [
    {
     "name": "stdout",
     "output_type": "stream",
     "text": [
      "Collecting matplotlib\n",
      "  Downloading matplotlib-3.10.1-cp310-cp310-win_amd64.whl (8.1 MB)\n",
      "     ---------------------------------------- 0.0/8.1 MB ? eta -:--:--\n",
      "     ---------------------------------------- 0.0/8.1 MB ? eta -:--:--\n",
      "     ---------------------------------------- 0.0/8.1 MB ? eta -:--:--\n",
      "     ---------------------------------------- 0.1/8.1 MB 880.9 kB/s eta 0:00:10\n",
      "     ---------------------------------------- 0.1/8.1 MB 880.9 kB/s eta 0:00:10\n",
      "     - -------------------------------------- 0.2/8.1 MB 986.4 kB/s eta 0:00:08\n",
      "     - -------------------------------------- 0.3/8.1 MB 1.2 MB/s eta 0:00:07\n",
      "     -- ------------------------------------- 0.5/8.1 MB 1.5 MB/s eta 0:00:06\n",
      "     --- ------------------------------------ 0.7/8.1 MB 1.9 MB/s eta 0:00:04\n",
      "     ---- ----------------------------------- 0.8/8.1 MB 2.0 MB/s eta 0:00:04\n",
      "     ---- ----------------------------------- 1.0/8.1 MB 2.1 MB/s eta 0:00:04\n",
      "     ----- ---------------------------------- 1.1/8.1 MB 2.2 MB/s eta 0:00:04\n",
      "     ------ --------------------------------- 1.3/8.1 MB 2.3 MB/s eta 0:00:03\n",
      "     ------- -------------------------------- 1.5/8.1 MB 2.4 MB/s eta 0:00:03\n",
      "     ------- -------------------------------- 1.6/8.1 MB 2.5 MB/s eta 0:00:03\n",
      "     --------- ------------------------------ 1.8/8.1 MB 2.6 MB/s eta 0:00:03\n",
      "     --------- ------------------------------ 1.9/8.1 MB 2.6 MB/s eta 0:00:03\n",
      "     --------- ------------------------------ 2.0/8.1 MB 2.6 MB/s eta 0:00:03\n",
      "     ---------- ----------------------------- 2.1/8.1 MB 2.6 MB/s eta 0:00:03\n",
      "     ----------- ---------------------------- 2.3/8.1 MB 2.6 MB/s eta 0:00:03\n",
      "     ------------ --------------------------- 2.4/8.1 MB 2.6 MB/s eta 0:00:03\n",
      "     ------------ --------------------------- 2.6/8.1 MB 2.7 MB/s eta 0:00:03\n",
      "     ------------- -------------------------- 2.7/8.1 MB 2.7 MB/s eta 0:00:02\n",
      "     ------------- -------------------------- 2.8/8.1 MB 2.7 MB/s eta 0:00:02\n",
      "     -------------- ------------------------- 2.9/8.1 MB 2.6 MB/s eta 0:00:02\n",
      "     --------------- ------------------------ 3.0/8.1 MB 2.6 MB/s eta 0:00:02\n",
      "     --------------- ------------------------ 3.1/8.1 MB 2.6 MB/s eta 0:00:02\n",
      "     --------------- ------------------------ 3.2/8.1 MB 2.6 MB/s eta 0:00:02\n",
      "     ---------------- ----------------------- 3.3/8.1 MB 2.6 MB/s eta 0:00:02\n",
      "     ----------------- ---------------------- 3.5/8.1 MB 2.6 MB/s eta 0:00:02\n",
      "     ------------------ --------------------- 3.6/8.1 MB 2.6 MB/s eta 0:00:02\n",
      "     ------------------ --------------------- 3.8/8.1 MB 2.6 MB/s eta 0:00:02\n",
      "     ------------------- -------------------- 3.9/8.1 MB 2.6 MB/s eta 0:00:02\n",
      "     -------------------- ------------------- 4.1/8.1 MB 2.7 MB/s eta 0:00:02\n",
      "     --------------------- ------------------ 4.3/8.1 MB 2.7 MB/s eta 0:00:02\n",
      "     ---------------------- ----------------- 4.5/8.1 MB 2.8 MB/s eta 0:00:02\n",
      "     ---------------------- ----------------- 4.6/8.1 MB 2.8 MB/s eta 0:00:02\n",
      "     ----------------------- ---------------- 4.8/8.1 MB 2.8 MB/s eta 0:00:02\n",
      "     ------------------------ --------------- 4.9/8.1 MB 2.8 MB/s eta 0:00:02\n",
      "     ------------------------- -------------- 5.2/8.1 MB 2.9 MB/s eta 0:00:02\n",
      "     -------------------------- ------------- 5.3/8.1 MB 2.9 MB/s eta 0:00:01\n",
      "     --------------------------- ------------ 5.5/8.1 MB 2.9 MB/s eta 0:00:01\n",
      "     --------------------------- ------------ 5.6/8.1 MB 2.9 MB/s eta 0:00:01\n",
      "     ---------------------------- ----------- 5.8/8.1 MB 2.9 MB/s eta 0:00:01\n",
      "     ----------------------------- ---------- 6.0/8.1 MB 2.9 MB/s eta 0:00:01\n",
      "     ------------------------------ --------- 6.1/8.1 MB 2.9 MB/s eta 0:00:01\n",
      "     ------------------------------- -------- 6.3/8.1 MB 3.0 MB/s eta 0:00:01\n",
      "     ------------------------------- -------- 6.4/8.1 MB 3.0 MB/s eta 0:00:01\n",
      "     -------------------------------- ------- 6.6/8.1 MB 3.0 MB/s eta 0:00:01\n",
      "     --------------------------------- ------ 6.8/8.1 MB 3.0 MB/s eta 0:00:01\n",
      "     ---------------------------------- ----- 6.9/8.1 MB 3.0 MB/s eta 0:00:01\n",
      "     ----------------------------------- ---- 7.1/8.1 MB 3.0 MB/s eta 0:00:01\n",
      "     ----------------------------------- ---- 7.2/8.1 MB 3.0 MB/s eta 0:00:01\n",
      "     ------------------------------------ --- 7.4/8.1 MB 3.0 MB/s eta 0:00:01\n",
      "     ------------------------------------- -- 7.5/8.1 MB 3.0 MB/s eta 0:00:01\n",
      "     -------------------------------------- - 7.7/8.1 MB 3.0 MB/s eta 0:00:01\n",
      "     -------------------------------------- - 7.8/8.1 MB 3.0 MB/s eta 0:00:01\n",
      "     ---------------------------------------  7.9/8.1 MB 3.0 MB/s eta 0:00:01\n",
      "     ---------------------------------------  8.0/8.1 MB 3.0 MB/s eta 0:00:01\n",
      "     ---------------------------------------  8.0/8.1 MB 3.0 MB/s eta 0:00:01\n",
      "     ---------------------------------------- 8.1/8.1 MB 2.9 MB/s eta 0:00:00\n",
      "Requirement already satisfied: pillow>=8 in c:\\users\\91807\\appdata\\local\\packages\\pythonsoftwarefoundation.python.3.10_qbz5n2kfra8p0\\localcache\\local-packages\\python310\\site-packages (from matplotlib) (11.1.0)\n",
      "Collecting cycler>=0.10\n",
      "  Downloading cycler-0.12.1-py3-none-any.whl (8.3 kB)\n",
      "Collecting fonttools>=4.22.0\n",
      "  Downloading fonttools-4.56.0-cp310-cp310-win_amd64.whl (2.2 MB)\n",
      "     ---------------------------------------- 0.0/2.2 MB ? eta -:--:--\n",
      "     --- ------------------------------------ 0.2/2.2 MB 5.3 MB/s eta 0:00:01\n",
      "     ------ --------------------------------- 0.4/2.2 MB 3.7 MB/s eta 0:00:01\n",
      "     -------- ------------------------------- 0.5/2.2 MB 3.8 MB/s eta 0:00:01\n",
      "     ---------- ----------------------------- 0.6/2.2 MB 3.8 MB/s eta 0:00:01\n",
      "     -------------- ------------------------- 0.8/2.2 MB 3.6 MB/s eta 0:00:01\n",
      "     ---------------- ----------------------- 0.9/2.2 MB 3.6 MB/s eta 0:00:01\n",
      "     -------------------- ------------------- 1.1/2.2 MB 3.7 MB/s eta 0:00:01\n",
      "     --------------------- ------------------ 1.2/2.2 MB 3.5 MB/s eta 0:00:01\n",
      "     -------------------------- ------------- 1.4/2.2 MB 3.6 MB/s eta 0:00:01\n",
      "     -------------------------- ------------- 1.5/2.2 MB 3.5 MB/s eta 0:00:01\n",
      "     ------------------------------- -------- 1.7/2.2 MB 3.6 MB/s eta 0:00:01\n",
      "     -------------------------------- ------- 1.8/2.2 MB 3.5 MB/s eta 0:00:01\n",
      "     ------------------------------------- -- 2.0/2.2 MB 3.5 MB/s eta 0:00:01\n",
      "     ---------------------------------------  2.2/2.2 MB 3.5 MB/s eta 0:00:01\n",
      "     ---------------------------------------- 2.2/2.2 MB 3.3 MB/s eta 0:00:00\n",
      "Collecting contourpy>=1.0.1\n",
      "  Downloading contourpy-1.3.1-cp310-cp310-win_amd64.whl (218 kB)\n",
      "     ---------------------------------------- 0.0/218.6 kB ? eta -:--:--\n",
      "     ------------------- ------------------ 112.6/218.6 kB 3.2 MB/s eta 0:00:01\n",
      "     -------------------------------------  215.0/218.6 kB 3.3 MB/s eta 0:00:01\n",
      "     -------------------------------------- 218.6/218.6 kB 1.7 MB/s eta 0:00:00\n",
      "Requirement already satisfied: packaging>=20.0 in c:\\users\\91807\\appdata\\local\\packages\\pythonsoftwarefoundation.python.3.10_qbz5n2kfra8p0\\localcache\\local-packages\\python310\\site-packages (from matplotlib) (24.2)\n",
      "Requirement already satisfied: numpy>=1.23 in c:\\users\\91807\\appdata\\local\\packages\\pythonsoftwarefoundation.python.3.10_qbz5n2kfra8p0\\localcache\\local-packages\\python310\\site-packages (from matplotlib) (2.2.4)\n",
      "Requirement already satisfied: python-dateutil>=2.7 in c:\\users\\91807\\appdata\\local\\packages\\pythonsoftwarefoundation.python.3.10_qbz5n2kfra8p0\\localcache\\local-packages\\python310\\site-packages (from matplotlib) (2.9.0.post0)\n",
      "Collecting pyparsing>=2.3.1\n",
      "  Downloading pyparsing-3.2.3-py3-none-any.whl (111 kB)\n",
      "     ---------------------------------------- 0.0/111.1 kB ? eta -:--:--\n",
      "     --------------------- ----------------- 61.4/111.1 kB 1.6 MB/s eta 0:00:01\n",
      "     ----------------------------------- -- 102.4/111.1 kB 1.5 MB/s eta 0:00:01\n",
      "     ------------------------------------ 111.1/111.1 kB 917.1 kB/s eta 0:00:00\n",
      "Collecting kiwisolver>=1.3.1\n",
      "  Downloading kiwisolver-1.4.8-cp310-cp310-win_amd64.whl (71 kB)\n",
      "     ---------------------------------------- 0.0/71.9 kB ? eta -:--:--\n",
      "     ---------------------------------------  71.7/71.9 kB 3.8 MB/s eta 0:00:01\n",
      "     -------------------------------------- 71.9/71.9 kB 978.5 kB/s eta 0:00:00\n",
      "Requirement already satisfied: six>=1.5 in c:\\users\\91807\\appdata\\local\\packages\\pythonsoftwarefoundation.python.3.10_qbz5n2kfra8p0\\localcache\\local-packages\\python310\\site-packages (from python-dateutil>=2.7->matplotlib) (1.17.0)\n",
      "Installing collected packages: pyparsing, kiwisolver, fonttools, cycler, contourpy, matplotlib\n",
      "Successfully installed contourpy-1.3.1 cycler-0.12.1 fonttools-4.56.0 kiwisolver-1.4.8 matplotlib-3.10.1 pyparsing-3.2.3\n",
      "Note: you may need to restart the kernel to use updated packages.\n"
     ]
    },
    {
     "name": "stderr",
     "output_type": "stream",
     "text": [
      "\n",
      "[notice] A new release of pip is available: 23.0.1 -> 25.0.1\n",
      "[notice] To update, run: C:\\Users\\91807\\AppData\\Local\\Microsoft\\WindowsApps\\PythonSoftwareFoundation.Python.3.10_qbz5n2kfra8p0\\python.exe -m pip install --upgrade pip\n"
     ]
    }
   ],
   "source": [
    "pip install matplotlib"
   ]
  },
  {
   "cell_type": "code",
   "execution_count": 7,
   "id": "54263ead",
   "metadata": {},
   "outputs": [
    {
     "name": "stdout",
     "output_type": "stream",
     "text": [
      "Requirement already satisfied: pandas in c:\\users\\91807\\appdata\\local\\packages\\pythonsoftwarefoundation.python.3.10_qbz5n2kfra8p0\\localcache\\local-packages\\python310\\site-packages (2.2.3)\n",
      "Requirement already satisfied: python-dateutil>=2.8.2 in c:\\users\\91807\\appdata\\local\\packages\\pythonsoftwarefoundation.python.3.10_qbz5n2kfra8p0\\localcache\\local-packages\\python310\\site-packages (from pandas) (2.9.0.post0)\n",
      "Requirement already satisfied: pytz>=2020.1 in c:\\users\\91807\\appdata\\local\\packages\\pythonsoftwarefoundation.python.3.10_qbz5n2kfra8p0\\localcache\\local-packages\\python310\\site-packages (from pandas) (2025.2)\n",
      "Requirement already satisfied: numpy>=1.22.4 in c:\\users\\91807\\appdata\\local\\packages\\pythonsoftwarefoundation.python.3.10_qbz5n2kfra8p0\\localcache\\local-packages\\python310\\site-packages (from pandas) (2.2.4)\n",
      "Requirement already satisfied: tzdata>=2022.7 in c:\\users\\91807\\appdata\\local\\packages\\pythonsoftwarefoundation.python.3.10_qbz5n2kfra8p0\\localcache\\local-packages\\python310\\site-packages (from pandas) (2025.2)\n",
      "Requirement already satisfied: six>=1.5 in c:\\users\\91807\\appdata\\local\\packages\\pythonsoftwarefoundation.python.3.10_qbz5n2kfra8p0\\localcache\\local-packages\\python310\\site-packages (from python-dateutil>=2.8.2->pandas) (1.17.0)\n",
      "Note: you may need to restart the kernel to use updated packages.\n"
     ]
    },
    {
     "name": "stderr",
     "output_type": "stream",
     "text": [
      "\n",
      "[notice] A new release of pip is available: 23.0.1 -> 25.0.1\n",
      "[notice] To update, run: C:\\Users\\91807\\AppData\\Local\\Microsoft\\WindowsApps\\PythonSoftwareFoundation.Python.3.10_qbz5n2kfra8p0\\python.exe -m pip install --upgrade pip\n"
     ]
    }
   ],
   "source": [
    "pip install pandas"
   ]
  },
  {
   "cell_type": "code",
   "execution_count": 9,
   "id": "e65b2a1b",
   "metadata": {},
   "outputs": [],
   "source": [
    "import matplotlib"
   ]
  },
  {
   "cell_type": "code",
   "execution_count": null,
   "id": "9f0dfeef-9144-4fa5-aa3f-65fa3f0e3d7b",
   "metadata": {},
   "outputs": [],
   "source": [
    "import streamlit as st\n",
    "from PyPDF2 import PdfReader\n",
    "import pandas as pd\n",
    "from sklearn.feature_extraction.text import TfidfVectorizer\n",
    "from sklearn.metrics.pairwise import cosine_similarity"
   ]
  },
  {
   "cell_type": "code",
   "execution_count": 14,
   "id": "dad76715",
   "metadata": {},
   "outputs": [],
   "source": [
    "file = \"ABILASH.pdf\""
   ]
  },
  {
   "cell_type": "code",
   "execution_count": 18,
   "id": "adeaac88-5c56-4971-bb3f-59c4bbb60c4a",
   "metadata": {},
   "outputs": [],
   "source": [
    "# Function to extract text from PDF\n",
    "def extract_text_from_pdf(file):\n",
    "    pdf = PdfReader(file)\n",
    "    text = \"\"\n",
    "    for page in pdf.pages:\n",
    "        text += page.extract_text()\n",
    "    return text"
   ]
  },
  {
   "cell_type": "code",
   "execution_count": 16,
   "id": "1eafd822",
   "metadata": {},
   "outputs": [
    {
     "ename": "NameError",
     "evalue": "name 'text' is not defined",
     "output_type": "error",
     "traceback": [
      "\u001b[1;31m---------------------------------------------------------------------------\u001b[0m",
      "\u001b[1;31mNameError\u001b[0m                                 Traceback (most recent call last)",
      "Cell \u001b[1;32mIn[16], line 1\u001b[0m\n\u001b[1;32m----> 1\u001b[0m \u001b[38;5;28mprint\u001b[39m(\u001b[43mtext\u001b[49m)\n",
      "\u001b[1;31mNameError\u001b[0m: name 'text' is not defined"
     ]
    }
   ],
   "source": [
    "print(text)"
   ]
  },
  {
   "cell_type": "code",
   "execution_count": null,
   "id": "5346adba-c7be-43e0-8962-c8ea95db7c18",
   "metadata": {},
   "outputs": [],
   "source": [
    "# Function to rank resumes based on job description\n",
    "def rank_resumes(job_description, resumes):\n",
    "    # Combine job description with resumes\n",
    "    documents [job_description] + resumes\n",
    "    vectorizer = TfidfVectorizer().fit_transform(documents)\n",
    "    vectors vectorizer.toarray()\n",
    "\n",
    "    # Calculate cosine similarity\n",
    "    job_description_vector = vectors[0]\n",
    "    resume_vectors = vectors [1:]\n",
    "    cosine_similarities = cosine_similarity ([job_description_vector], resume_vectors).flatten()\n",
    "    \n",
    "    return cosine_similarities"
   ]
  },
  {
   "cell_type": "code",
   "execution_count": null,
   "id": "fe4f6753-d769-43c4-891a-4874d57ebdf6",
   "metadata": {},
   "outputs": [],
   "source": [
    "# Streamlit app\n",
    "st.title(\"AI Resume Screening & Candidate Ranking System\")\n",
    "# Job description input\n",
    "st.header(\"Job Description\")\n",
    "job_description= st.text_area (\"Enter the job description\")"
   ]
  },
  {
   "cell_type": "code",
   "execution_count": null,
   "id": "8b4202d6-4e09-4119-b1fd-9adb991b4ab5",
   "metadata": {},
   "outputs": [],
   "source": [
    "# File uploader\n",
    "st.header(\"Upload Resumes\")\n",
    "uploaded_files = st.file_uploader(\"Upload PDF files\", type=[\"pdf\"], accept_multiple_files=True)"
   ]
  },
  {
   "cell_type": "code",
   "execution_count": null,
   "id": "8e218fd3-19a8-4514-98bb-e5d6672df465",
   "metadata": {},
   "outputs": [],
   "source": [
    "if uploaded_files and job_description:\n",
    "    st.header(\"Ranking Resumes\")\n",
    "    \n",
    "    resumes = []\n",
    "    for file in uploaded_files:\n",
    "        text = extract_text_from_pdf(file)\n",
    "        resumes.append(text)\n",
    "\n",
    "    # Rank resumes\n",
    "    scores = rank_resumes(job_description, resumes)\n",
    "\n",
    "    # Display scores\n",
    "    results = pd.DataFrame({\"Resume\": [file.name for file in uploaded_files], \"Score\": score })\n",
    "    results = results.sort_values(by=\"Score\", ascending=False)\n",
    "    \n",
    "    st.write(results)"
   ]
  },
  {
   "cell_type": "code",
   "execution_count": null,
   "id": "36f4c751-0615-4257-9dd4-36253f1e31e9",
   "metadata": {},
   "outputs": [],
   "source": []
  }
 ],
 "metadata": {
  "kernelspec": {
   "display_name": "Python 3",
   "language": "python",
   "name": "python3"
  },
  "language_info": {
   "codemirror_mode": {
    "name": "ipython",
    "version": 3
   },
   "file_extension": ".py",
   "mimetype": "text/x-python",
   "name": "python",
   "nbconvert_exporter": "python",
   "pygments_lexer": "ipython3",
   "version": "3.10.11"
  }
 },
 "nbformat": 4,
 "nbformat_minor": 5
}
